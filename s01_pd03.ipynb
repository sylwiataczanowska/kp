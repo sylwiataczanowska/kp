{
 "cells": [
  {
   "cell_type": "code",
   "execution_count": 212,
   "metadata": {
    "collapsed": true
   },
   "outputs": [],
   "source": [
    "import numpy as np\n",
    "import matplotlib.pyplot as plt"
   ]
  },
  {
   "cell_type": "code",
   "execution_count": 213,
   "metadata": {
    "collapsed": false
   },
   "outputs": [
    {
     "data": {
      "text/plain": [
       "array([  1,   2,  -3,   6,   7, -10,  88,  43, -98,  17,  39,  45])"
      ]
     },
     "execution_count": 213,
     "metadata": {},
     "output_type": "execute_result"
    }
   ],
   "source": [
    "# doklejenie wartości\n",
    "ar = np.array([1,2,-3,6,7,-10,88,43,-98,17,39,45])\n",
    "ar"
   ]
  },
  {
   "cell_type": "code",
   "execution_count": 214,
   "metadata": {
    "collapsed": false
   },
   "outputs": [],
   "source": [
    "ar2 = np.array([4,5,9,10,23,-14,55,13])"
   ]
  },
  {
   "cell_type": "code",
   "execution_count": 215,
   "metadata": {
    "collapsed": false
   },
   "outputs": [],
   "source": [
    "wektory = np.concatenate((ar, ar2))"
   ]
  },
  {
   "cell_type": "code",
   "execution_count": 216,
   "metadata": {
    "collapsed": false
   },
   "outputs": [
    {
     "data": {
      "text/plain": [
       "array([  1,   2,  -3,   6,   7, -10,  88,  43, -98,  17,  39,  45,   4,\n",
       "         5,   9,  10,  23, -14,  55,  13])"
      ]
     },
     "execution_count": 216,
     "metadata": {},
     "output_type": "execute_result"
    }
   ],
   "source": [
    "wektory"
   ]
  },
  {
   "cell_type": "code",
   "execution_count": 217,
   "metadata": {
    "collapsed": false
   },
   "outputs": [
    {
     "data": {
      "text/plain": [
       "14"
      ]
     },
     "execution_count": 217,
     "metadata": {},
     "output_type": "execute_result"
    }
   ],
   "source": [
    "#znajdz index dla wartości 9 - użyj odpowiedniej funkcji\n",
    "wektory.tolist().index(9)\n"
   ]
  },
  {
   "cell_type": "code",
   "execution_count": 218,
   "metadata": {
    "collapsed": false
   },
   "outputs": [
    {
     "data": {
      "text/plain": [
       "array([False, False,  True, False, False,  True, False, False,  True,\n",
       "       False, False, False, False, False, False, False, False,  True,\n",
       "       False, False], dtype=bool)"
      ]
     },
     "execution_count": 218,
     "metadata": {},
     "output_type": "execute_result"
    }
   ],
   "source": [
    "#znajdź indeksy dla wartości mniejszych od zera\n",
    "wektory < 0"
   ]
  },
  {
   "cell_type": "code",
   "execution_count": 219,
   "metadata": {
    "collapsed": false
   },
   "outputs": [
    {
     "name": "stdout",
     "output_type": "stream",
     "text": [
      "2\n",
      "5\n",
      "8\n",
      "17\n"
     ]
    }
   ],
   "source": [
    "for index, value in enumerate(wektory):\n",
    "    if value < 0:\n",
    "        print(index)"
   ]
  },
  {
   "cell_type": "code",
   "execution_count": 220,
   "metadata": {
    "collapsed": false
   },
   "outputs": [
    {
     "name": "stdout",
     "output_type": "stream",
     "text": [
      "-3\n",
      "-10\n",
      "-98\n",
      "-14\n"
     ]
    }
   ],
   "source": [
    "#wyświetl wartości mniejsze od zera\n",
    "for value in wektory:\n",
    "    if value < 0:\n",
    "        print(value)"
   ]
  },
  {
   "cell_type": "code",
   "execution_count": 221,
   "metadata": {
    "collapsed": false
   },
   "outputs": [
    {
     "data": {
      "text/plain": [
       "12.1"
      ]
     },
     "execution_count": 221,
     "metadata": {},
     "output_type": "execute_result"
    }
   ],
   "source": [
    "#policz średnią, zaokrąglij do jednego miejsca po przecinku\n",
    "np.mean(wektory)"
   ]
  },
  {
   "cell_type": "code",
   "execution_count": 222,
   "metadata": {
    "collapsed": false
   },
   "outputs": [],
   "source": [
    "#stwórz zmienną ar_abs, wektor wartości bezwględnych z wektora ar\n",
    "ar_abs = max(np.absolute(ar))"
   ]
  },
  {
   "cell_type": "code",
   "execution_count": 223,
   "metadata": {
    "collapsed": false
   },
   "outputs": [
    {
     "data": {
      "text/plain": [
       "98"
      ]
     },
     "execution_count": 223,
     "metadata": {},
     "output_type": "execute_result"
    }
   ],
   "source": [
    "ar_abs"
   ]
  },
  {
   "cell_type": "code",
   "execution_count": 224,
   "metadata": {
    "collapsed": true
   },
   "outputs": [],
   "source": [
    "#stwórz zmienną ar_p, wektor pierwiastków trzeciego stopnia z wektora ar_abs\n",
    "ar_p = np.cbrt(ar_abs)"
   ]
  },
  {
   "cell_type": "code",
   "execution_count": 225,
   "metadata": {
    "collapsed": false
   },
   "outputs": [
    {
     "data": {
      "text/plain": [
       "4.6104362920584467"
      ]
     },
     "execution_count": 225,
     "metadata": {},
     "output_type": "execute_result"
    }
   ],
   "source": [
    "ar_p"
   ]
  },
  {
   "cell_type": "code",
   "execution_count": 226,
   "metadata": {
    "collapsed": false
   },
   "outputs": [
    {
     "data": {
      "text/plain": [
       "'4.61'"
      ]
     },
     "execution_count": 226,
     "metadata": {},
     "output_type": "execute_result"
    }
   ],
   "source": [
    "format(ar_p, '.2f')"
   ]
  },
  {
   "cell_type": "code",
   "execution_count": 227,
   "metadata": {
    "collapsed": false
   },
   "outputs": [],
   "source": [
    "#zsumuj zaokrąglony wektor ar_p i podnieś go do kwadratu\n",
    "np.sum(ar_p)\n",
    "ar_sq = np.square(ar_p) "
   ]
  },
  {
   "cell_type": "code",
   "execution_count": 228,
   "metadata": {
    "collapsed": false
   },
   "outputs": [
    {
     "data": {
      "text/plain": [
       "4.6104362920584467"
      ]
     },
     "execution_count": 228,
     "metadata": {},
     "output_type": "execute_result"
    }
   ],
   "source": [
    "ar_p"
   ]
  },
  {
   "cell_type": "code",
   "execution_count": 229,
   "metadata": {
    "collapsed": false
   },
   "outputs": [
    {
     "data": {
      "text/plain": [
       "numpy.float64"
      ]
     },
     "execution_count": 229,
     "metadata": {},
     "output_type": "execute_result"
    }
   ],
   "source": [
    "type(ar_sq)"
   ]
  },
  {
   "cell_type": "code",
   "execution_count": 230,
   "metadata": {
    "collapsed": false
   },
   "outputs": [
    {
     "data": {
      "text/plain": [
       "21"
      ]
     },
     "execution_count": 230,
     "metadata": {},
     "output_type": "execute_result"
    }
   ],
   "source": [
    "#zmienną nazwij ar_sq, zmień typ tej zmiennej na liczbę całkowitą\n",
    "ar_sq.astype(int)"
   ]
  },
  {
   "cell_type": "code",
   "execution_count": 231,
   "metadata": {
    "collapsed": true
   },
   "outputs": [],
   "source": [
    "#mini wyzwanie"
   ]
  },
  {
   "cell_type": "code",
   "execution_count": 232,
   "metadata": {
    "collapsed": false,
    "scrolled": true
   },
   "outputs": [
    {
     "name": "stdout",
     "output_type": "stream",
     "text": [
      "                    0\n",
      "0    salary;happiness\n",
      "1             5222;94\n",
      "2             3158;90\n",
      "3             4973;68\n",
      "4             7048;68\n",
      "5             9407;75\n",
      "6             7850;67\n",
      "7             6687;68\n",
      "8             8273;71\n",
      "9             7679;76\n",
      "10            6670;65\n",
      "11            4027;98\n",
      "12            6012;83\n",
      "13            7393;55\n",
      "14            6347;87\n",
      "15            6778;59\n",
      "16            9718;49\n",
      "17            7135;77\n",
      "18            6836;83\n",
      "19            7261;88\n",
      "20            6511;79\n",
      "21            8610;49\n",
      "22            6489;78\n",
      "23            8281;71\n",
      "24            7800;80\n",
      "25            8367;80\n",
      "26            4977;81\n",
      "27            5366;87\n",
      "28            6747;91\n",
      "29            7357;56\n",
      "..                ...\n",
      "471           5467;80\n",
      "472           4225;81\n",
      "473           2814;89\n",
      "474          10530;55\n",
      "475           6870;97\n",
      "476           6981;86\n",
      "477           4578;85\n",
      "478           4917;95\n",
      "479           4906;97\n",
      "480           4404;93\n",
      "481           8963;68\n",
      "482           7361;67\n",
      "483           5740;94\n",
      "484           7284;87\n",
      "485           5772;96\n",
      "486           5246;93\n",
      "487           6289;66\n",
      "488           5617;82\n",
      "489           8730;57\n",
      "490           9497;37\n",
      "491           7300;89\n",
      "492           9004;52\n",
      "493           5894;99\n",
      "494           9144;49\n",
      "495           8393;81\n",
      "496           6291;92\n",
      "497           4888;79\n",
      "498           5435;83\n",
      "499           9031;68\n",
      "500           5543;87\n",
      "\n",
      "[501 rows x 1 columns]\n"
     ]
    }
   ],
   "source": [
    "data=pd.read_csv('https://raw.githubusercontent.com/kpswps/py/master/prace_domowe/s01_pd03.csv', sep=';')\n",
    "print(df1)\n"
   ]
  },
  {
   "cell_type": "code",
   "execution_count": 233,
   "metadata": {
    "collapsed": false,
    "scrolled": true
   },
   "outputs": [
    {
     "data": {
      "text/plain": [
       "pandas.core.frame.DataFrame"
      ]
     },
     "execution_count": 233,
     "metadata": {},
     "output_type": "execute_result"
    }
   ],
   "source": [
    "type(df1)"
   ]
  },
  {
   "cell_type": "code",
   "execution_count": 234,
   "metadata": {
    "collapsed": false
   },
   "outputs": [
    {
     "data": {
      "text/plain": [
       "[<matplotlib.lines.Line2D at 0x1ee509aeef0>,\n",
       " <matplotlib.lines.Line2D at 0x1ee509aee10>]"
      ]
     },
     "execution_count": 234,
     "metadata": {},
     "output_type": "execute_result"
    }
   ],
   "source": [
    "plt.plot(data)"
   ]
  },
  {
   "cell_type": "code",
   "execution_count": 239,
   "metadata": {
    "collapsed": false
   },
   "outputs": [
    {
     "data": {
      "image/png": "[encoded data removed]",
      "text/plain": [
       "<matplotlib.figure.Figure at 0x1ee50b68c18>"
      ]
     },
     "metadata": {},
     "output_type": "display_data"
    }
   ],
   "source": [
    "\n",
    "\n",
    "\n",
    "plt.plot(data['salary'], data['happiness'])\n",
    "\n",
    "x=axes.set_xlim([0,14000])\n",
    "y=axes.set_ylim([0,105])\n",
    "\n",
    "plt.title(\"Szczęście a zarobki w złotych\")\n",
    "plt.xlabel(\"Zarobki w złotych\")\n",
    "plt.ylabel(\"Szczęście mierzone kwestionariuszem\")\n",
    "\n",
    "\n",
    "x = data['salary']\n",
    "y = data['happiness']\n",
    "\n",
    "\n",
    "\n",
    "bardzo_szczesliwi = y > 80 \n",
    "raczej_szczesliwi = [(y>60)&(y<80)]\n",
    "raczej_nieszczesliwi = [(y>40)&(y<60)]\n",
    "bardzo_nieszczesliwi = y<40\n",
    "\n",
    "plt.plot(x[bardzo_szczesliwi], y[bardzo_szczesliwi], '.', color = 'red',  label = 'Bardzo szczęśliwi')\n",
    "plt.plot(x[(y>60)&(y<80)], y[(y>60)&(y<80)],'p', color = 'blue', label = 'Raczej szczęśliwi')\n",
    "plt.plot(x[(y>40)&(y<60)], y[(y>40)&(y<60)],'d', color = 'orange', label = 'Raczej nieszczęśliwi')\n",
    "plt.plot(x[bardzo_nieszczesliwi], y[bardzo_nieszczesliwi],'<', color = 'green', label = 'Bardzo nieszczęśliwi')\n",
    "\n",
    "plt.legend()\n",
    "\n",
    "plt.show()"
   ]
  },
  {
   "cell_type": "code",
   "execution_count": 240,
   "metadata": {
    "collapsed": true
   },
   "outputs": [],
   "source": [
    "plt.savefig('s01_pd03.png')"
   ]
  },
  {
   "cell_type": "code",
   "execution_count": null,
   "metadata": {
    "collapsed": true
   },
   "outputs": [],
   "source": []
  }
 ],
 "metadata": {
  "kernelspec": {
   "display_name": "Python 3",
   "language": "python",
   "name": "python3"
  },
  "language_info": {
   "codemirror_mode": {
    "name": "ipython",
    "version": 3
   },
   "file_extension": ".py",
   "mimetype": "text/x-python",
   "name": "python",
   "nbconvert_exporter": "python",
   "pygments_lexer": "ipython3",
   "version": "3.6.0"
  }
 },
 "nbformat": 4,
 "nbformat_minor": 2
}

