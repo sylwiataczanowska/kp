imie = input('Jak się nazywasz? ')
wiek = input('Ile masz lat? ')
print('Nazywasz się', imie, 'i masz', wiek, 'lat', sep = ' ')
